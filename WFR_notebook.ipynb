{
 "cells": [
  {
   "cell_type": "markdown",
   "metadata": {},
   "source": [
    "# Wheelfun Rentals Project\n",
    "Using the dataset of a years worth of a mechanic log analyzing what insights it may have including the attendence."
   ]
  },
  {
   "cell_type": "markdown",
   "metadata": {},
   "source": [
    "## Importing Libraries and datasets"
   ]
  },
  {
   "cell_type": "code",
   "execution_count": 22,
   "metadata": {},
   "outputs": [],
   "source": [
    "import numpy as np # linear algebra\n",
    "import pandas as pd # data processing\n",
    "import matplotlib.pyplot as plt # Visualizations\n"
   ]
  },
  {
   "cell_type": "code",
   "execution_count": 23,
   "metadata": {},
   "outputs": [],
   "source": [
    "# import Maintaince Board Reports\n",
    "mechanic_log = pd.read_csv(\"MB_Reports.csv\", index_col=0 )\n",
    "park_attendence = pd.read_csv(\"Park_Attendence.csv\", index_col= 0 )"
   ]
  },
  {
   "cell_type": "markdown",
   "metadata": {},
   "source": [
    "### Looking into the Mechanic Log"
   ]
  },
  {
   "cell_type": "code",
   "execution_count": 24,
   "metadata": {},
   "outputs": [
    {
     "data": {
      "text/plain": [
       "Index(['Down Date', 'Product', 'Description', 'Mechanic Notes',\n",
       "       'Attatchment feauture', 'Status', 'Part Comment', 'Product #',\n",
       "       'Reporter', 'Category', 'Last Edited', 'Last Edited by', 'Mechanic',\n",
       "       '1 st attempt date', 'Edinger Part', 'Warner Part', 'Waterfront Part',\n",
       "       'Yorba Part'],\n",
       "      dtype='object')"
      ]
     },
     "execution_count": 24,
     "metadata": {},
     "output_type": "execute_result"
    }
   ],
   "source": [
    "mechanic_log.head()\n",
    "mechanic_log.dtypes # Categorize data types\n",
    "mechanic_log.columns"
   ]
  },
  {
   "cell_type": "markdown",
   "metadata": {},
   "source": [
    "## Explaination of the Data\n",
    "## Features\n",
    "\n",
    "### Parts Ordering\n",
    "#### Parts for the locations feature (Edinger Part columns, Waterfront Part column, etc.), Mechanic Notes, Part Comment, Attatchment feauture \n",
    "- This feature behind this was to have a relation between the **parts database** and the **Mechanic Log**. Making it easier to share parts I needed for broken bikes and account by \n",
    "location including pictures and other descriptive comments with parts manager. The operation I worked out was to relate parts to reports but they would be deleted after I received the parts.\n",
    "I did not keep or have any tool to keep record of the parts I had.\n",
    "### Reoccuring Maintaince\n",
    "- The products need routine maintaince using a category of maintaince as a task list needs to be filtered out and could be reported wrong due. \n",
    "\n",
    "#### Last Edited by column\n",
    "- This data's purpose was to see who finished the product. When updating the status to being \"Done\" the one to categorize the product was to be assumed to be the last one to edit due to dashboards filtering out\n",
    "products that were done.\n",
    "#### Product # \n",
    "- A unique id number for products based on Location, and Product. Was sometimes not reported as Null or product was not labeled. \n",
    "    Example : Waterfront Double Surrey #3\n",
    "#### Status\n",
    "- A mangament fit into whether a part was needed, it was planned, or if a part was back ordered\n"
   ]
  },
  {
   "cell_type": "code",
   "execution_count": 25,
   "metadata": {},
   "outputs": [],
   "source": [
    "# Deleting useless columns\n",
    "mechanic_log.drop(['Yorba Part','Edinger Part', 'Warner Part', 'Waterfront Part','Attatchment feauture','Mechanic','1 st attempt date'],axis = 1, inplace= True)\n"
   ]
  },
  {
   "cell_type": "code",
   "execution_count": 26,
   "metadata": {},
   "outputs": [
    {
     "name": "stdout",
     "output_type": "stream",
     "text": [
      "          Down Date        Product  \\\n",
      "Location                             \n",
      "Edinger    6/5/2021  Single Surrey   \n",
      "Edinger   6/20/2021  Double Surrey   \n",
      "Edinger   6/20/2021        Cruiser   \n",
      "Edinger   6/20/2021     Quad Sport   \n",
      "Edinger   6/20/2021     Quad Sport   \n",
      "Edinger   6/20/2021      Swan Boat   \n",
      "Edinger   6/20/2021     Quad Sport   \n",
      "Edinger   6/20/2021        Chopper   \n",
      "Edinger   6/20/2021    Deuce Coupe   \n",
      "Edinger   6/20/2021  Single Surrey   \n",
      "Edinger   6/20/2021            NaN   \n",
      "Edinger   6/23/2021  Single Surrey   \n",
      "Yorba     6/27/2021  Double Surrey   \n",
      "Yorba     6/28/2021      Swan Boat   \n",
      "Yorba     6/29/2021      Swan Boat   \n",
      "Yorba     6/29/2021            NaN   \n",
      "Yorba      7/1/2021  Infinity Bike   \n",
      "Yorba      7/1/2021  Single Surrey   \n",
      "\n",
      "                                                Description Mechanic Notes  \\\n",
      "Location                                                                     \n",
      "Edinger                       Left tire touches metal frame       Not sure   \n",
      "Edinger                                    Brake Adjustment            NaN   \n",
      "Edinger                                    Chain Adjustment            NaN   \n",
      "Edinger                                   Chain Adjustnment            NaN   \n",
      "Edinger                                      Coaster Brakes            NaN   \n",
      "Edinger                                              Grease            NaN   \n",
      "Edinger                                      Steering Wheel            NaN   \n",
      "Edinger                                          Handlebars            NaN   \n",
      "Edinger                                             Headset            NaN   \n",
      "Edinger                                            Stickers            NaN   \n",
      "Edinger                                               Order            NaN   \n",
      "Edinger                                           Tire Ware            NaN   \n",
      "Yorba     Outside of front passenger wheel is beginning ...            NaN   \n",
      "Yorba                                               U bolts            NaN   \n",
      "Yorba                Clean Swan Boat tops with power washer            NaN   \n",
      "Yorba                 Wash the sides of shipping containers            NaN   \n",
      "Yorba                                         No kick stand            NaN   \n",
      "Yorba                                      Brake adjustment            NaN   \n",
      "\n",
      "                   Status Part Comment Product #  Reporter    Category  \\\n",
      "Location                                                                 \n",
      "Edinger   To Be Looked At          NaN         8  Gregorio  Maintaince   \n",
      "Edinger     Done, Planned          NaN       NaN       NaN  Maintaince   \n",
      "Edinger           Planned          NaN       NaN       NaN  Maintaince   \n",
      "Edinger               NaN          NaN       NaN       NaN  Maintaince   \n",
      "Edinger               NaN          NaN       NaN       NaN  Maintaince   \n",
      "Edinger               NaN          NaN       NaN       NaN  Maintaince   \n",
      "Edinger               NaN          NaN       NaN       NaN  Maintaince   \n",
      "Edinger               NaN          NaN       NaN       NaN  Maintaince   \n",
      "Edinger               NaN          NaN       NaN       NaN  Maintaince   \n",
      "Edinger               NaN          NaN       NaN       NaN  Maintaince   \n",
      "Edinger     Done, Planned          NaN       NaN       NaN  Maintaince   \n",
      "Edinger     Done, Planned          NaN       NaN       NaN  Maintaince   \n",
      "Yorba                 NaN          NaN         4     Angel  Maintaince   \n",
      "Yorba                 NaN          NaN       NaN       NaN  Maintaince   \n",
      "Yorba                 NaN          NaN       NaN       NaN  Maintaince   \n",
      "Yorba                 NaN          NaN       NaN       NaN  Maintaince   \n",
      "Yorba                 NaN          NaN        Na     Ruben  Maintaince   \n",
      "Yorba                Done          NaN         4     Vince  Maintaince   \n",
      "\n",
      "         Last Edited Last Edited by  \n",
      "Location                             \n",
      "Edinger    6/24/2021  Robert Mounce  \n",
      "Edinger    6/22/2021  Robert Mounce  \n",
      "Edinger    6/24/2021  Robert Mounce  \n",
      "Edinger    6/20/2021  Robert Mounce  \n",
      "Edinger    6/20/2021  Robert Mounce  \n",
      "Edinger    6/20/2021  Robert Mounce  \n",
      "Edinger    6/20/2021  Robert Mounce  \n",
      "Edinger    6/20/2021  Robert Mounce  \n",
      "Edinger    6/20/2021  Robert Mounce  \n",
      "Edinger    6/20/2021  Robert Mounce  \n",
      "Edinger    6/24/2021  Robert Mounce  \n",
      "Edinger    6/24/2021  Robert Mounce  \n",
      "Yorba      6/27/2021  Robert Mounce  \n",
      "Yorba      6/29/2021  Robert Mounce  \n",
      "Yorba      6/29/2021  Robert Mounce  \n",
      "Yorba      6/29/2021  Robert Mounce  \n",
      "Yorba       7/1/2021  Robert Mounce  \n",
      "Yorba      7/21/2021  Robert Mounce  \n"
     ]
    }
   ],
   "source": [
    "# Cleaning maintaince log\n",
    "maintaince_log = mechanic_log[mechanic_log[\"Category\"] == \"Maintaince\"] \n",
    "# Maintaince bike log feature (they would have no reporter)\n",
    "maintaince_log_corr = maintaince_log.drop_duplicates([\"Description\"])\n",
    "print()"
   ]
  },
  {
   "cell_type": "code",
   "execution_count": 27,
   "metadata": {},
   "outputs": [],
   "source": [
    "# Sorting\n"
   ]
  }
 ],
 "metadata": {
  "interpreter": {
   "hash": "31f2aee4e71d21fbe5cf8b01ff0e069b9275f58929596ceb00d14d90e3e16cd6"
  },
  "kernelspec": {
   "display_name": "Python 3.8.9 64-bit",
   "language": "python",
   "name": "python3"
  },
  "language_info": {
   "codemirror_mode": {
    "name": "ipython",
    "version": 3
   },
   "file_extension": ".py",
   "mimetype": "text/x-python",
   "name": "python",
   "nbconvert_exporter": "python",
   "pygments_lexer": "ipython3",
   "version": "3.9.7"
  },
  "orig_nbformat": 4
 },
 "nbformat": 4,
 "nbformat_minor": 2
}
